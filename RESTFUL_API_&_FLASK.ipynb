{
  "nbformat": 4,
  "nbformat_minor": 0,
  "metadata": {
    "colab": {
      "provenance": []
    },
    "kernelspec": {
      "name": "python3",
      "display_name": "Python 3"
    },
    "language_info": {
      "name": "python"
    }
  },
  "cells": [
    {
      "cell_type": "code",
      "execution_count": null,
      "metadata": {
        "id": "jHuf05DUxs1t"
      },
      "outputs": [],
      "source": []
    },
    {
      "cell_type": "markdown",
      "source": [
        "***RESTFUL API & FLASK***"
      ],
      "metadata": {
        "id": "-xojaMDPxttV"
      }
    },
    {
      "cell_type": "markdown",
      "source": [
        "1.WHAT IS A RESTFUL API?\n",
        "ANS-A RESTful API (Representational State Transfer API) is a type of web service that follows the principles of REST architecture to allow communication between different systems (usually between a client and a server) over the internet."
      ],
      "metadata": {
        "id": "QASDfi4xx2mk"
      }
    },
    {
      "cell_type": "markdown",
      "source": [
        "2.EXPLAIN THE CONCEPT OF API SPECIFICATION.\n",
        "ANS-An API specification is a detailed contract or blueprint that defines how an API should work.\n",
        "\n",
        "It describes:\n",
        "\n",
        "What endpoints exist\n",
        "\n",
        "What requests you can make (methods, parameters, headers, body)\n",
        "\n",
        "What responses you’ll get (status codes, data format)\n",
        "\n",
        "Rules and constraints for using the API\n",
        "\n",
        "Think of it as a manual for developers that explains exactly how to interact with an API without needing to read its internal code."
      ],
      "metadata": {
        "id": "aIP00jlKyqfa"
      }
    },
    {
      "cell_type": "markdown",
      "source": [
        "3.WHAT IS FLASK,AND WHY IS IT POPULAR FOR BUILDING APIS?\n",
        "ANS-Flask is a lightweight web framework for Python, mainly used to build web applications and RESTful APIs.\n",
        "\n",
        "It is often called a \"microframework\" because it provides only the essentials (routing, request/response handling) and leaves everything else (database, authentication, etc.) to extensions or custom code.\n",
        "\n",
        "Flask is built on Werkzeug (for WSGI) and Jinja2 (for templating)."
      ],
      "metadata": {
        "id": "U8mteqtKy_jr"
      }
    },
    {
      "cell_type": "markdown",
      "source": [
        "4.WHAT IS ROUTING IN FLASK?\n",
        "ANS-In Flask, routing means mapping a URL (endpoint) to a specific function in your Python code.\n",
        "\n",
        "Each route corresponds to a web address (like /, /users, /products).\n",
        "\n",
        "When a client (browser, mobile app, API consumer) sends a request to that URL, Flask runs the function linked to it.\n",
        "\n",
        "That function usually returns a response (HTML, JSON, etc.).\n"
      ],
      "metadata": {
        "id": "HjzHbY1Yzmdk"
      }
    },
    {
      "cell_type": "markdown",
      "source": [
        "5.HOW DO YOU CREATE A SIMPLE FLASK APPLICATION?\n",
        "ANS-Step 1: Install Flask\n",
        "\n",
        "Make sure Flask is installed (only once per environment).\n",
        "pip install flask\n",
        "Step 2: Create a Python File (e.g., app.py)\n",
        "\n",
        "Write this minimal Flask app:\n",
        "from flask import Flask\n",
        "\n",
        "# Create Flask application object\n",
        "app = Flask(__name__)\n",
        "\n",
        "# Define a route for the homepage\n",
        "@app.route('/')\n",
        "def home():\n",
        "    return \"Hello, Flask! 🎉\"\n",
        "\n",
        "# Run the app\n",
        "if __name__ == '__main__':\n",
        "    app.run(debug=True)\n",
        "Step 3: Run the Application\n",
        "\n",
        "Run the file:\n",
        "python app.py\n"
      ],
      "metadata": {
        "id": "FgFDxyqZ0C_s"
      }
    },
    {
      "cell_type": "markdown",
      "source": [
        "6.WHAT ARE HTTP METHOD USED IN RESTFUL APIS?\n",
        "ANS-GET\n",
        "\n",
        "1.Purpose: Retrieve data from the server (read-only).\n",
        "\n",
        "Safe & idempotent (doesn’t change server state).\n",
        "\n",
        "Example:\n",
        "\n",
        "GET /users → Get all users\n",
        "\n",
        "GET /users/1 → Get user with ID = 1\n",
        "\n",
        "POST\n",
        "\n",
        "2.Purpose: Create a new resource on the server.\n",
        "\n",
        "Not idempotent (repeating creates multiple entries).\n",
        "PUT\n",
        "\n",
        "3.Purpose: Update/replace an existing resource completely.\n",
        "\n",
        "Idempotent (repeating the same request gives the same result).\n",
        "PATCH\n",
        "\n",
        "4.Purpose: Partially update an existing resource.\n",
        "DELETE\n",
        "\n",
        "5.Purpose: Remove a resource from the server.\n",
        "\n",
        "Idempotent (deleting the same resource again has no further effect)."
      ],
      "metadata": {
        "id": "7nDldGwK049n"
      }
    },
    {
      "cell_type": "markdown",
      "source": [
        "7.WHAT IS THE PURPOSE OF THE @APP.ROUTE()DECORATOR IN FLASK?\n",
        "ANS-In Flask, the @app.route() decorator is used to map a URL path (endpoint) to a specific Python function.\n",
        "\n",
        "That function is called a view function.\n",
        "\n",
        "Whenever a user visits the given URL, Flask executes the linked function and returns the response."
      ],
      "metadata": {
        "id": "Cc_nEQgB1uW4"
      }
    },
    {
      "cell_type": "markdown",
      "source": [
        "8.WHAT IS THE DIFFERENCE BETWEEN GET AND POST HTTP METHODS?\n",
        "ANS-GET\n",
        "Retrieve data from the server (read-only).\n",
        "Data is sent in the URL (query string).\n",
        "Example: GET /search?q=python\n",
        "Data is visible in the URL → less secure.\n",
        "POST HTTP\n",
        "Send data to the server to create or process something.\n",
        "Data is sent in the request body.\n",
        "Example: { \"username\": \"divya\", \"password\": \"123\" }\n",
        "Data is hidden in the request body → safer for sensitive info."
      ],
      "metadata": {
        "id": "5F5whObt2Myo"
      }
    },
    {
      "cell_type": "markdown",
      "source": [
        "9.HOW DO YOU HANDLE ERROR IN FLASK APIS?\n",
        "ANS-1. Using HTTP Status Codes\n",
        "\n",
        "Always return meaningful status codes:\n",
        "\n",
        "200 OK → Success\n",
        "\n",
        "201 Created → Resource created\n",
        "\n",
        "400 Bad Request → Client sent invalid data\n",
        "\n",
        "401 Unauthorized → Authentication required\n",
        "\n",
        "404 Not Found → Resource doesn’t exist\n",
        "\n",
        "500 Internal Server Error → Server-side problem"
      ],
      "metadata": {
        "id": "6eaE2QvE3-kR"
      }
    },
    {
      "cell_type": "markdown",
      "source": [
        "10.HOW DO YOU CONNECT FLASK TO A SQL DATABASE?\n",
        "ANS-Using sqlite3 module (built-in) – simplest way.\n",
        "\n",
        "Using SQLAlchemy (ORM) – most popular and recommended.\n",
        "\n",
        "Using Flask-SQLAlchemy (Flask extension for SQLAlchemy) – makes integration super easy."
      ],
      "metadata": {
        "id": "n9wmY9ie4fdl"
      }
    },
    {
      "cell_type": "markdown",
      "source": [
        "11.WHAT IS THE ROLE OF FLASK-SQLALCHEMY?\n",
        "ANS-\n",
        "1.Simplifies Database Configuration\n",
        "\n",
        "Provides an easy way to connect Flask with databases like SQLite, MySQL, PostgreSQL, Oracle, SQL Server.\n",
        "2.Object Relational Mapping (ORM)\n",
        "\n",
        "You define models (Python classes) that represent database tables.\n",
        "\n",
        "Each instance of the class = a row in the table.\n",
        "3.Querying with Python Instead of SQL\n",
        "4.Database Session Management\n",
        "\n",
        "Handles transactions (add, commit, rollback).\n",
        "5.Migrations Support (with Flask-Migrate)\n",
        "\n",
        "Keeps track of schema changes (adding tables/columns) without dropping the database.\n",
        "\n",
        "6.Cross-Database Compatibility\n",
        "\n",
        "The same Python code can work with SQLite for testing and PostgreSQL/MySQL in production."
      ],
      "metadata": {
        "id": "5xkPBphz5AVE"
      }
    },
    {
      "cell_type": "markdown",
      "source": [
        "12.WHAT ARE FLASK BLUEPRINTS,AND HOW ARE THEY USEFUL?\n",
        "ANS-A Blueprint in Flask is a way to organize and structure your application into reusable, modular components.\n",
        "\n",
        "Instead of keeping all routes, views, and logic in one big app.py file, Blueprints let you split your app into smaller pieces (like user management, admin panel, blog, API).\n",
        "\n",
        "Think of a Blueprint as a mini-application inside your Flask project that can be registered on the main app.\n",
        "1.Modularity - Organize related routes, templates, and static files into separate modules.\n",
        "\n",
        "2.Reusability - A Blueprint can be reused across multiple applications.\n",
        "\n",
        "3.Collaboration - Easier for teams (different developers can work on different Blueprints).\n",
        "\n",
        "4.Maintainability - Keeps code clean and avoids one giant file with hundreds of routes.\n",
        "\n",
        "5.Flexibility - Blueprints can be registered multiple times or under different URL prefixes."
      ],
      "metadata": {
        "id": "cSLm1S2z6nbF"
      }
    },
    {
      "cell_type": "markdown",
      "source": [
        "13.WHAT IS THE PURPOSE OF FLASK'S REQUEST OBJECT?\n",
        "ANS-In Flask, the request object (imported from flask) represents the HTTP request that a client (browser, mobile app, API consumer) sends to your Flask application.\n",
        "\n",
        "It allows you to access request data such as:\n",
        "\n",
        "Form inputs\n",
        "\n",
        "Query parameters\n",
        "\n",
        "JSON body\n",
        "\n",
        "HTTP headers\n",
        "\n",
        "Cookies\n",
        "\n",
        "Request method (GET, POST, etc.)\n"
      ],
      "metadata": {
        "id": "tT1IGEfU8UkW"
      }
    },
    {
      "cell_type": "markdown",
      "source": [
        "14.HOW DO YOU CREATE A RESTFUL API ENDPOINT USING FLASK?\n",
        "ANS-1.INSTALL FLASK\n",
        "PIP INSTALL FLASK\n",
        "2.CREATE APP.PY\n"
      ],
      "metadata": {
        "id": "yEyQjZUk9ZEy"
      }
    },
    {
      "cell_type": "markdown",
      "source": [
        "15.WHAT IS THE PURPOSE OF FLASK'S JSONIFY()FUNCTION?\n",
        "ANS-The jsonify() function in Flask is used to return JSON responses from your API endpoints.\n",
        "\n",
        "Instead of returning plain text or manually converting dictionaries to JSON, jsonify() ensures that:\n",
        "\n",
        "Python dict/list → JSON format automatically.\n",
        "\n",
        "Sets correct Content-Type header (application/json).\n",
        "\n",
        "Handles Unicode & special characters safely.\n",
        "\n",
        "Makes your API responses standards-compliant."
      ],
      "metadata": {
        "id": "KtvptF1W-MSe"
      }
    },
    {
      "cell_type": "markdown",
      "source": [
        "16.EXPLAIN FLASK'S URL_FOR()FUNCTION.\n",
        "ANS-Flask’s url_for() function is used to dynamically generate URLs for your routes (endpoints) instead of hardcoding them."
      ],
      "metadata": {
        "id": "IJ-Sr0I--oAf"
      }
    },
    {
      "cell_type": "markdown",
      "source": [
        "17.HOW DOES FLASK HANDLE STATIC FILES(CSS,JAVASCRIPT,ETC.)?\n",
        "ANS-Flask has a special folder called static/ for serving static files such as:\n",
        "\n",
        "CSS\n",
        "\n",
        "JavaScript\n",
        "\n",
        "Images (PNG, JPG, etc.)\n",
        "\n",
        "Fonts\n",
        "\n",
        "By default:\n",
        "\n",
        "Flask automatically makes files inside the static/ folder available at the URL"
      ],
      "metadata": {
        "id": "9eMtYAOD_QtW"
      }
    },
    {
      "cell_type": "markdown",
      "source": [
        "18.WHAT IS AN API SPECIFICATION,AND HOW DOES IT HELP IN BUILDING A FLASK API?\n",
        "ANS-An API specification is a formal document (usually written in a standard format like OpenAPI/Swagger)\n",
        "\n",
        "1.Clarity & Planning\n",
        "\n",
        "Before writing code, you know exactly which routes, methods, and data formats are required.\n",
        "\n",
        "2.Consistency\n",
        "\n",
        "Ensures all developers follow the same API design (naming conventions, response structures).\n",
        "\n",
        "3.Automatic Documentation\n",
        "\n",
        "Tools like Swagger UI or Redoc can generate live, interactive docs from the specification.\n",
        "\n",
        "4.Client Development\n",
        "\n",
        "Frontend or mobile developers can start building apps using the spec, even before the Flask API is ready.\n",
        "\n",
        "5.Validation\n",
        "\n",
        "Some Flask extensions (like Flask-RESTX or Flask-Smorest) can validate requests/responses automatically based on the spec."
      ],
      "metadata": {
        "id": "kQ5wLIzs_94n"
      }
    },
    {
      "cell_type": "markdown",
      "source": [
        "19.WHAT ARE HTTP STATUS CODES,AND WHY ARE THEY IMPORTANT IN FLASK API?\n",
        "ANS-HTTP status codes are 3-digit numbers returned by a server in response to a client’s request.\n",
        "\n",
        "They tell the client what happened with the request (success, failure, redirect, error, etc.).\n",
        "\n",
        "They are part of the HTTP response along with data (JSON, HTML, etc.).\n",
        "\n",
        "1.Clear Communication\n",
        "\n",
        "Clients (frontend, mobile apps) know if the request worked or failed.\n",
        "\n",
        "2.Error Handling\n",
        "\n",
        "Helps developers debug by knowing if the issue was client-side (4xx) or server-side (5xx).\n",
        "\n",
        "3.Standards & Interoperability\n",
        "\n",
        "REST APIs should follow HTTP standards so any client can integrate easily.\n",
        "\n",
        "4.Improved User Experience\n",
        "\n",
        "APIs can send proper messages (e.g., 404 when a user is not found, instead of just crashing)."
      ],
      "metadata": {
        "id": "iYXeF3MkBNN5"
      }
    },
    {
      "cell_type": "markdown",
      "source": [
        "20.HOW DO YOU HANDLE POST REQUEST IN FLASK?\n",
        "ANS-POST is an HTTP method used when a client wants to send data to the server (e.g., create a new user, submit a form, upload a file).\n",
        "\n",
        "In Flask, we handle POST requests by defining a route that accepts POST methods and reading data from the request."
      ],
      "metadata": {
        "id": "MbccVF3vB5Fo"
      }
    },
    {
      "cell_type": "markdown",
      "source": [
        "21.HOW WOULD YOU SECURE A FLASK API?\n",
        "ANS-\n",
        "1. Use HTTPS (TLS/SSL)\n",
        "Always serve your API over HTTPS to encrypt traffic.\n",
        "\n",
        "Prevents attackers from intercepting sensitive data like tokens, passwords, or API keys.\n",
        "\n",
        "Example: use a reverse proxy like Nginx + Let’s Encrypt.\n",
        "2. Authentication & Authorization\n",
        "\n",
        "Ensure only authorized clients can access protected endpoints.\n",
        "\n",
        "\n",
        "API Keys → Simple, but less secure.\n",
        "\n",
        "JWT (JSON Web Tokens) → Common for stateless APIs.\n",
        "\n",
        "OAuth2 → Industry standard for third-party integrations\n",
        "3.Input Validation & Sanitization\n",
        "\n",
        "Validate all incoming data to prevent:\n",
        "\n",
        "SQL Injection\n",
        "\n",
        "Cross-Site Scripting (XSS)\n",
        "\n",
        "Command Injection\n",
        "\n",
        "Use libraries like marshmallow or pydantic for data validation."
      ],
      "metadata": {
        "id": "hvupvFMnCQsa"
      }
    },
    {
      "cell_type": "markdown",
      "source": [
        "22.WHAT IS THE SIGNIFICANCE OF THE FLASK-RESTFUL EXTENSION?\n",
        "ANS-Flask-RESTful is an extension for Flask that helps you build RESTful APIs more easily and cleanly.\n",
        "It adds tools and classes that make defining API endpoints, handling requests, and formatting responses much simpler compared to writing everything manually in plain Flask.\n",
        "1.Simplifies API Endpoint Creation\n",
        "\n",
        "Instead of writing @app.route() for every endpoint, you define Resources (classes) where each HTTP method is a method inside the class.\n",
        "2. Cleaner Handling of HTTP Methods\n",
        "3. Built-in Request Parsing\n",
        "4. Automatic JSON Responses\n",
        "5. Scalability"
      ],
      "metadata": {
        "id": "VJZ7_zkiC_H8"
      }
    },
    {
      "cell_type": "markdown",
      "source": [
        "23.WHAT IS THE ROLE OF FLASK'S SESSION OBJECT?\n",
        "ANS-Flask’s session object is used to store data about a user across multiple requests.\n",
        "\n",
        "Since HTTP is stateless (it doesn’t remember anything between requests), the session allows Flask to keep track of user-specific information — like login status, preferences, or a shopping cart — as the user navigates the site."
      ],
      "metadata": {
        "id": "xD0FeeU-D44s"
      }
    },
    {
      "cell_type": "markdown",
      "source": [
        "***PRACTICAL***"
      ],
      "metadata": {
        "id": "-WLaf8vREYHH"
      }
    },
    {
      "cell_type": "markdown",
      "source": [
        "1.HOW DO YOU CREATE A BASIC FLASK APPLICATION?"
      ],
      "metadata": {
        "id": "3WMbwQOAEbjn"
      }
    },
    {
      "cell_type": "code",
      "source": [
        "PIP INSTALL FLASK"
      ],
      "metadata": {
        "id": "6qFmJVTSE2bj"
      },
      "execution_count": null,
      "outputs": []
    },
    {
      "cell_type": "code",
      "source": [
        "# my_flask_app/\n",
        "# │\n",
        "# └── app.py\n",
        "from flask import Flask\n",
        "\n",
        "app = Flask(__name__)\n",
        "\n",
        "@app.route('/')\n",
        "def home():\n",
        "    return \"Hello, Flask!\"\n",
        "\n",
        "if __name__ == '__main__':\n",
        "    app.run(debug=True)"
      ],
      "metadata": {
        "colab": {
          "base_uri": "https://localhost:8080/"
        },
        "id": "QcnOcN8BE9VJ",
        "outputId": "20f6b621-dd7b-4a01-ee46-5de3d49dcdb3"
      },
      "execution_count": null,
      "outputs": [
        {
          "output_type": "stream",
          "name": "stdout",
          "text": [
            " * Serving Flask app '__main__'\n",
            " * Debug mode: on\n"
          ]
        },
        {
          "output_type": "stream",
          "name": "stderr",
          "text": [
            "INFO:werkzeug:\u001b[31m\u001b[1mWARNING: This is a development server. Do not use it in a production deployment. Use a production WSGI server instead.\u001b[0m\n",
            " * Running on http://127.0.0.1:5000\n",
            "INFO:werkzeug:\u001b[33mPress CTRL+C to quit\u001b[0m\n",
            "INFO:werkzeug: * Restarting with stat\n"
          ]
        }
      ]
    },
    {
      "cell_type": "markdown",
      "source": [
        "2.HOW DO YOU SERVE STATIC FILES LIKE IMAGES OR CSS IN FLASK?\n"
      ],
      "metadata": {
        "id": "WYHsdofeFp2L"
      }
    },
    {
      "cell_type": "markdown",
      "metadata": {
        "id": "f7d9e785"
      },
      "source": [
        "Here's an example of how to serve static files like images or CSS in Flask:"
      ]
    },
    {
      "cell_type": "code",
      "metadata": {
        "colab": {
          "base_uri": "https://localhost:8080/"
        },
        "id": "32287231",
        "outputId": "4378550c-8450-4ceb-e8ba-3f73b6bdd9e6"
      },
      "source": [
        "from flask import Flask, render_template\n",
        "\n",
        "app = Flask(__name__)\n",
        "\n",
        "@app.route('/')\n",
        "def index():\n",
        "    return render_template('index.html')\n",
        "\n",
        "if __name__ == '__main__':\n",
        "    # To run this, you would need to create a 'static' folder\n",
        "    # and a 'templates' folder in the same directory as this file.\n",
        "    # Inside 'static', you would put your CSS, JS, and images.\n",
        "    # Inside 'templates', you would put your HTML files.\n",
        "    # In your HTML file (e.g., templates/index.html), you would link to static files like this:\n",
        "    # <link rel=\"stylesheet\" href=\"{{ url_for('static', filename='style.css') }}\">\n",
        "    # <script src=\"{{ url_for('static', filename='script.js') }}\"></script>\n",
        "    # <img src=\"{{ url_for('static', filename='logo.png') }}\" alt=\"Logo\">\n",
        "    print(\"To run this code:\")\n",
        "    print(\"1. Create a 'static' folder and a 'templates' folder in the same directory.\")\n",
        "    print(\"2. Put your static files (CSS, JS, images) in the 'static' folder.\")\n",
        "    print(\"3. Create an 'index.html' file in the 'templates' folder and add the following code:\")\n",
        "    print(\"   <!DOCTYPE html>\")\n",
        "    print(\"   <html>\")\n",
        "    print(\"   <head>\")\n",
        "    print(\"       <title>Static Files Example</title>\")\n",
        "    print(\"       <link rel='stylesheet' href='{{ url_for('static', filename='style.css') }}'>\")\n",
        "    print(\"   </head>\")\n",
        "    print(\"   <body>\")\n",
        "    print(\"       <h1>Serving Static Files</h1>\")\n",
        "    print(\"       <img src='{{ url_for('static', filename='logo.png') }}' alt='Logo'>\")\n",
        "    print(\"       <script src='{{ url_for('static', filename='script.js') }}'></script>\")\n",
        "    print(\"   </body>\")\n",
        "    print(\"   </html>\")\n",
        "    print(\"4. Run this Python file.\")\n",
        "    # app.run(debug=True) # Uncomment this line to actually run the Flask app"
      ],
      "execution_count": 2,
      "outputs": [
        {
          "output_type": "stream",
          "name": "stdout",
          "text": [
            "To run this code:\n",
            "1. Create a 'static' folder and a 'templates' folder in the same directory.\n",
            "2. Put your static files (CSS, JS, images) in the 'static' folder.\n",
            "3. Create an 'index.html' file in the 'templates' folder and add the following code:\n",
            "   <!DOCTYPE html>\n",
            "   <html>\n",
            "   <head>\n",
            "       <title>Static Files Example</title>\n",
            "       <link rel='stylesheet' href='{{ url_for('static', filename='style.css') }}'>\n",
            "   </head>\n",
            "   <body>\n",
            "       <h1>Serving Static Files</h1>\n",
            "       <img src='{{ url_for('static', filename='logo.png') }}' alt='Logo'>\n",
            "       <script src='{{ url_for('static', filename='script.js') }}'></script>\n",
            "   </body>\n",
            "   </html>\n",
            "4. Run this Python file.\n"
          ]
        }
      ]
    },
    {
      "cell_type": "markdown",
      "source": [
        "3.HOW DO YOU DEFINE DIFFERENT ROUTES WITH DIFFERENT HTTP METHODS IN FLASK?"
      ],
      "metadata": {
        "id": "Lzv-EP1L0Zip"
      }
    },
    {
      "cell_type": "code",
      "source": [
        "from flask import Flask, request\n",
        "\n",
        "app = Flask(__name__)\n",
        "\n",
        "# Route with GET method (default)\n",
        "@app.route('/hello', methods=['GET'])\n",
        "def hello():\n",
        "    return \"Hello, World!\"\n",
        "\n",
        "# Route with POST method\n",
        "@app.route('/submit', methods=['POST'])\n",
        "def submit():\n",
        "    data = request.form.get(\"name\")\n",
        "    return f\"Data received: {data}\"\n",
        "\n",
        "# Route with multiple methods\n",
        "@app.route('/item', methods=['GET', 'POST'])\n",
        "def item():\n",
        "    if request.method == 'GET':\n",
        "        return \"Send item details using POST.\"\n",
        "    elif request.method == 'POST':\n",
        "        return f\"Item received: {request.json}\"\n",
        "\n",
        "# Route with PUT method\n",
        "@app.route('/update', methods=['PUT'])\n",
        "def update():\n",
        "    return \"Update successful!\"\n",
        "\n",
        "# Route with DELETE method\n",
        "@app.route('/delete', methods=['DELETE'])\n",
        "def delete():\n",
        "    return \"Delete successful!\"\n",
        "\n",
        "if __name__ == '__main__':\n",
        "    app.run(debug=True)\n"
      ],
      "metadata": {
        "colab": {
          "base_uri": "https://localhost:8080/"
        },
        "id": "cso4x4Hn1LeA",
        "outputId": "410567e7-df6a-4f74-f49c-6501a3614fc3"
      },
      "execution_count": null,
      "outputs": [
        {
          "output_type": "stream",
          "name": "stdout",
          "text": [
            " * Serving Flask app '__main__'\n",
            " * Debug mode: on\n"
          ]
        },
        {
          "output_type": "stream",
          "name": "stderr",
          "text": [
            "INFO:werkzeug:\u001b[31m\u001b[1mWARNING: This is a development server. Do not use it in a production deployment. Use a production WSGI server instead.\u001b[0m\n",
            " * Running on http://127.0.0.1:5000\n",
            "INFO:werkzeug:\u001b[33mPress CTRL+C to quit\u001b[0m\n",
            "INFO:werkzeug: * Restarting with stat\n"
          ]
        }
      ]
    },
    {
      "cell_type": "markdown",
      "source": [
        "4.HOW DO YOU RENDER HTML TEMPLATES IN FLASK?"
      ],
      "metadata": {
        "id": "b5ix_RWl1O1R"
      }
    },
    {
      "cell_type": "markdown",
      "source": [
        "CREATE A FOLDER TEMPLATES/INDEX.HTML:\n"
      ],
      "metadata": {
        "id": "HBfZeQp86v6G"
      }
    },
    {
      "cell_type": "code",
      "source": [
        "<!_ _TEMPLATES/INDEX.HTML_ _>\n",
        "<H1>HELLO,{{NAME}}</H1>"
      ],
      "metadata": {
        "id": "3huclsVa7EjA"
      },
      "execution_count": null,
      "outputs": []
    },
    {
      "cell_type": "code",
      "source": [
        "FROM FLASK IMPORT render_template\n",
        "@APP.ROUTE('/HELLO/<NAME>')\n",
        "DEF HELLO(NAME):\n",
        "RETURN RENDER_TEMPLATE('INDEX.HTML',NAME=NAME)"
      ],
      "metadata": {
        "id": "SXG6atXk7ZyO"
      },
      "execution_count": null,
      "outputs": []
    },
    {
      "cell_type": "markdown",
      "source": [
        "5.HOW CAN YOU GENERATE URLS FOR ROUTE IN FLASK USING URL_FOR?"
      ],
      "metadata": {
        "id": "QTxkhKlI30_o"
      }
    },
    {
      "cell_type": "code",
      "source": [
        "from flask import Flask, url_for, render_template_string\n",
        "\n",
        "app = Flask(__name__)\n",
        "\n",
        "@app.route('/')\n",
        "def home():\n",
        "    # Generate URL for the 'about' route\n",
        "    about_url = url_for('about')\n",
        "    return f'<a href=\"{about_url}\">Go to About Page</a>'\n",
        "\n",
        "@app.route('/about')\n",
        "def about():\n",
        "    return \"This is the About Page\"\n",
        "\n",
        "if __name__ == '__main__':\n",
        "    app.run(debug=True)\n"
      ],
      "metadata": {
        "id": "IADTgQyu4NB_"
      },
      "execution_count": null,
      "outputs": []
    },
    {
      "cell_type": "markdown",
      "source": [
        "6.HOW DO YOU HANDLE FORMS IN FLASK?"
      ],
      "metadata": {
        "id": "NLlulizu5NHn"
      }
    },
    {
      "cell_type": "code",
      "source": [
        "<!-- templates/form.html -->\n",
        "<!DOCTYPE html>\n",
        "<html>\n",
        "<head>\n",
        "    <title>Form Example</title>\n",
        "</head>\n",
        "<body>\n",
        "    <form method=\"POST\" action=\"/submit\">\n",
        "        <label>Name:</label>\n",
        "        <input type=\"text\" name=\"name\"><br><br>\n",
        "\n",
        "        <label>Email:</label>\n",
        "        <input type=\"email\" name=\"email\"><br><br>\n",
        "\n",
        "        <input type=\"submit\" value=\"Submit\">\n",
        "    </form>\n",
        "</body>\n",
        "</html>\n"
      ],
      "metadata": {
        "id": "HPGLKVCo8DiN"
      },
      "execution_count": null,
      "outputs": []
    },
    {
      "cell_type": "markdown",
      "source": [
        "7.HOW CAN YOU VALIDATE FROM DATA IN FLASK?"
      ],
      "metadata": {
        "id": "UorfhLt88GDd"
      }
    },
    {
      "cell_type": "code",
      "source": [
        "from flask import Flask, request, render_template_string\n",
        "\n",
        "app = Flask(__name__)\n",
        "\n",
        "form_html = \"\"\"\n",
        "<form method=\"POST\">\n",
        "    Name: <input type=\"text\" name=\"name\"><br>\n",
        "    Age: <input type=\"number\" name=\"age\"><br>\n",
        "    <input type=\"submit\" value=\"Submit\">\n",
        "</form>\n",
        "\"\"\"\n",
        "\n",
        "@app.route(\"/\", methods=[\"GET\", \"POST\"])\n",
        "def index():\n",
        "    if request.method == \"POST\":\n",
        "        name = request.form.get(\"name\")\n",
        "        age = request.form.get(\"age\")\n",
        "\n",
        "        errors = []\n",
        "        if not name or name.strip() == \"\":\n",
        "            errors.append(\"Name is required.\")\n",
        "        if not age or not age.isdigit() or int(age) < 0:\n",
        "            errors.append(\"Age must be a valid positive number.\")\n",
        "\n",
        "        if errors:\n",
        "            return f\"Errors: {', '.join(errors)}\"\n",
        "        else:\n",
        "            return f\"Hello {name}, Age {age}\"\n",
        "    return render_template_string(form_html)\n",
        "\n",
        "if __name__ == \"__main__\":\n",
        "    app.run(debug=True)\n"
      ],
      "metadata": {
        "id": "SbIMSpji8Wl1"
      },
      "execution_count": null,
      "outputs": []
    },
    {
      "cell_type": "markdown",
      "source": [
        "8.HOW DO YOU MANAGE SESSIONS IN FLASK?"
      ],
      "metadata": {
        "id": "h0Y-zAvk8f3A"
      }
    },
    {
      "cell_type": "code",
      "source": [
        "from flask import Flask, session, redirect, url_for, request\n",
        "\n",
        "app = Flask(__name__)\n",
        "app.secret_key = 'supersecretkey'  # required for signing session cookies\n"
      ],
      "metadata": {
        "id": "cu8_M6br8vTt"
      },
      "execution_count": null,
      "outputs": []
    },
    {
      "cell_type": "markdown",
      "source": [
        "9.HOW DO YOU REDIRECT TO A DIFFERENT ROUTE IN FLASK?"
      ],
      "metadata": {
        "id": "iHp4yX9p8yL7"
      }
    },
    {
      "cell_type": "code",
      "source": [
        "from flask import Flask, redirect, url_for\n",
        "\n",
        "app = Flask(__name__)\n",
        "\n",
        "@app.route('/')\n",
        "def home():\n",
        "    return redirect(url_for('about'))  # redirect to /about\n",
        "\n",
        "@app.route('/about')\n",
        "def about():\n",
        "    return \"This is the About Page\"\n"
      ],
      "metadata": {
        "id": "Ho-wt3Yv9DoT"
      },
      "execution_count": null,
      "outputs": []
    },
    {
      "cell_type": "markdown",
      "source": [
        "10.HOW DO YOU HANDLE ERROR IN FLASK(E.G,404)?"
      ],
      "metadata": {
        "id": "XvevB3TO9HHg"
      }
    },
    {
      "cell_type": "code",
      "source": [
        "from flask import Flask, render_template\n",
        "\n",
        "app = Flask(__name__)\n",
        "\n",
        "@app.route('/')\n",
        "def home():\n",
        "    return \"Welcome to the Home Page!\"\n",
        "\n",
        "# Handle 404 Not Found\n",
        "@app.errorhandler(404)\n",
        "def page_not_found(error):\n",
        "    return render_template('404.html'), 404\n",
        "\n",
        "# Handle 500 Internal Server Error\n",
        "@app.errorhandler(500)\n",
        "def internal_error(error):\n",
        "    return \"Oops! Something went wrong on our end.\", 500\n",
        "\n",
        "if __name__ == '__main__':\n",
        "    app.run(debug=True)\n"
      ],
      "metadata": {
        "id": "x6Regoay9TOd"
      },
      "execution_count": null,
      "outputs": []
    },
    {
      "cell_type": "markdown",
      "source": [
        "11.HOW DO YOU STRUCTURE A FLASK APP USING BLUEPRINTS?"
      ],
      "metadata": {
        "id": "NqtGtBLV9c0N"
      }
    },
    {
      "cell_type": "code",
      "source": [
        "myapp/\n",
        "│\n",
        "├── app.py                # Main application entry point\n",
        "├── config.py             # Configuration settings (optional)\n",
        "│\n",
        "├── myapp/                # Application package\n",
        "│   ├── __init__.py       # Initialize Flask app + register blueprints\n",
        "│   ├── routes.py         # Routes for main app (optional)\n",
        "│   │\n",
        "│   ├── auth/             # \"auth\" blueprint\n",
        "│   │   ├── __init__.py\n",
        "│   │   ├── routes.py\n",
        "│   │\n",
        "│   ├── blog/             # \"blog\" blueprint\n",
        "│   │   ├── __init__.py\n",
        "│   │   ├── routes.py\n",
        "│\n",
        "└── templates/            # Jinja2 templates (optional)\n"
      ],
      "metadata": {
        "id": "tX3Htw_b9ual"
      },
      "execution_count": null,
      "outputs": []
    },
    {
      "cell_type": "markdown",
      "source": [
        "12.HOW DO YOU DEFINE A CUSTOM JINJA FILTER IN FLASK?"
      ],
      "metadata": {
        "id": "QfCtvmlc9wo1"
      }
    },
    {
      "cell_type": "code",
      "source": [
        "@app.template_filter(\"shout\")\n",
        "def shout_filter(s):\n",
        "    return s.upper() + \"!!!\"\n",
        "\n",
        "@app.route(\"/\")\n",
        "def index():\n",
        "    return render_template_string(\"{{ 'hello'|shout }}\")\n"
      ],
      "metadata": {
        "id": "-Oyxyj8n-KS9"
      },
      "execution_count": null,
      "outputs": []
    },
    {
      "cell_type": "markdown",
      "source": [
        "13.HOW CAN YOU REDIRECT WITH QUERY PARAMETERS IN FLASK?"
      ],
      "metadata": {
        "id": "mEqf4pDU-MOR"
      }
    },
    {
      "cell_type": "code",
      "source": [
        "from flask import Flask, redirect, url_for, request\n",
        "\n",
        "app = Flask(__name__)\n",
        "\n",
        "@app.route('/')\n",
        "def home():\n",
        "    # Redirect to /welcome with query parameters\n",
        "    return redirect(url_for('welcome', name=\"Divya\", age=25))\n",
        "\n",
        "@app.route('/welcome')\n",
        "def welcome():\n",
        "    # Get query parameters using request.args\n",
        "    name = request.args.get('name')\n",
        "    age = request.args.get('age')\n",
        "    return f\"Welcome {name}, age {age}\"\n",
        "\n",
        "if __name__ == '__main__':\n",
        "    app.run(debug=True)\n"
      ],
      "metadata": {
        "id": "BPpjH4vr-c_V"
      },
      "execution_count": null,
      "outputs": []
    },
    {
      "cell_type": "markdown",
      "source": [
        "14.HOW DO YOU RETURN JSON RESPONSES IN FLASK?"
      ],
      "metadata": {
        "id": "X9UuHZwK-f7e"
      }
    },
    {
      "cell_type": "code",
      "source": [
        "from flask import Flask, jsonify\n",
        "\n",
        "app = Flask(__name__)\n",
        "\n",
        "@app.route(\"/data\")\n",
        "def get_data():\n",
        "    data = {\"name\": \"Divya\", \"age\": 25, \"city\": \"Pune\"}\n",
        "    return jsonify(data)\n",
        "\n",
        "if __name__ == \"__main__\":\n",
        "    app.run(debug=True)\n"
      ],
      "metadata": {
        "id": "_ORjtFU8-yu8"
      },
      "execution_count": null,
      "outputs": []
    },
    {
      "cell_type": "markdown",
      "source": [
        "15.HOW DO YOU CAPTURE URL PARAMETERS IN FLASK?"
      ],
      "metadata": {
        "id": "kNkbYEJL-z9c"
      }
    },
    {
      "cell_type": "code",
      "source": [
        "from flask import Flask\n",
        "\n",
        "app = Flask(__name__)\n",
        "\n",
        "# Route with a URL parameter\n",
        "@app.route('/user/<username>')\n",
        "def show_user_profile(username):\n",
        "    return f'Hello, {username}!'\n",
        "\n",
        "# Route with an integer parameter\n",
        "@app.route('/post/<int:post_id>')\n",
        "def show_post(post_id):\n",
        "    return f'This is post {post_id}'\n",
        "\n",
        "if __name__ == \"__main__\":\n",
        "    app.run(debug=True)\n"
      ],
      "metadata": {
        "id": "52TmsiZC_DD0"
      },
      "execution_count": null,
      "outputs": []
    }
  ]
}